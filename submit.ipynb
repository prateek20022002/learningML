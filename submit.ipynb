{
 "cells": [
  {
   "cell_type": "code",
   "execution_count": 1,
   "id": "84a9d85c",
   "metadata": {
    "_cell_guid": "b1076dfc-b9ad-4769-8c92-a6c4dae69d19",
    "_uuid": "8f2839f25d086af736a60e9eeb907d3b93b6e0e5",
    "execution": {
     "iopub.execute_input": "2024-11-18T11:35:47.150658Z",
     "iopub.status.busy": "2024-11-18T11:35:47.150261Z",
     "iopub.status.idle": "2024-11-18T11:35:48.017381Z",
     "shell.execute_reply": "2024-11-18T11:35:48.016139Z"
    },
    "papermill": {
     "duration": 0.876279,
     "end_time": "2024-11-18T11:35:48.019811",
     "exception": false,
     "start_time": "2024-11-18T11:35:47.143532",
     "status": "completed"
    },
    "tags": []
   },
   "outputs": [
    {
     "name": "stdout",
     "output_type": "stream",
     "text": [
      "/kaggle/input/titanic-survivore/train.csv\n",
      "/kaggle/input/titanic-survivore/test.csv\n"
     ]
    }
   ],
   "source": [
    "# This Python 3 environment comes with many helpful analytics libraries installed\n",
    "# It is defined by the kaggle/python Docker image: https://github.com/kaggle/docker-python\n",
    "# For example, here's several helpful packages to load\n",
    "\n",
    "import numpy as np # linear algebra\n",
    "import pandas as pd # data processing, CSV file I/O (e.g. pd.read_csv)\n",
    "\n",
    "\n",
    "# Input data files are available in the read-only \"../input/\" directory\n",
    "# For example, running this (by clicking run or pressing Shift+Enter) will list all files under the input directory\n",
    "\n",
    "import os\n",
    "for dirname, _, filenames in os.walk('/kaggle/input'):\n",
    "    for filename in filenames:\n",
    "        print(os.path.join(dirname, filename))\n",
    "\n",
    "# You can write up to 20GB to the current directory (/kaggle/working/) that gets preserved as output when you create a version using \"Save & Run All\" \n",
    "# You can also write temporary files to /kaggle/temp/, but they won't be saved outside of the current session"
   ]
  },
  {
   "cell_type": "code",
   "execution_count": 2,
   "id": "4a53ed6a",
   "metadata": {
    "execution": {
     "iopub.execute_input": "2024-11-18T11:35:48.032063Z",
     "iopub.status.busy": "2024-11-18T11:35:48.030973Z",
     "iopub.status.idle": "2024-11-18T11:35:48.036226Z",
     "shell.execute_reply": "2024-11-18T11:35:48.035153Z"
    },
    "papermill": {
     "duration": 0.013184,
     "end_time": "2024-11-18T11:35:48.038220",
     "exception": false,
     "start_time": "2024-11-18T11:35:48.025036",
     "status": "completed"
    },
    "tags": []
   },
   "outputs": [],
   "source": [
    "def add_intercept(x):\n",
    "    x[\"intercept\"]=1\n",
    "    return x"
   ]
  },
  {
   "cell_type": "code",
   "execution_count": 3,
   "id": "793b0c56",
   "metadata": {
    "execution": {
     "iopub.execute_input": "2024-11-18T11:35:48.049575Z",
     "iopub.status.busy": "2024-11-18T11:35:48.048498Z",
     "iopub.status.idle": "2024-11-18T11:35:48.055949Z",
     "shell.execute_reply": "2024-11-18T11:35:48.054901Z"
    },
    "papermill": {
     "duration": 0.015466,
     "end_time": "2024-11-18T11:35:48.058218",
     "exception": false,
     "start_time": "2024-11-18T11:35:48.042752",
     "status": "completed"
    },
    "tags": []
   },
   "outputs": [],
   "source": [
    "def load_data(path, label=[\"Survived\"], in_attri = [\"Pclass\", \"Sex\", \"Age\", \"Fare\"], add_intercept=False):\n",
    "    def addIntercept(x):\n",
    "        global add_intercept\n",
    "        return add_intercept(x)\n",
    "    input = pd.read_csv(path, delimiter = ',', usecols = in_attri)\n",
    "    output = None\n",
    "    if label is not None:\n",
    "        output = pd.read_csv(path, delimiter = ',', usecols = label)\n",
    "    if input.ndim == 1:\n",
    "        input = np.expand_dims(input, -1)\n",
    "    if add_intercept:\n",
    "        input = addIntercept(input)\n",
    "    return input, output\n",
    "    "
   ]
  },
  {
   "cell_type": "code",
   "execution_count": 4,
   "id": "2ad99607",
   "metadata": {
    "execution": {
     "iopub.execute_input": "2024-11-18T11:35:48.069504Z",
     "iopub.status.busy": "2024-11-18T11:35:48.069087Z",
     "iopub.status.idle": "2024-11-18T11:35:48.103105Z",
     "shell.execute_reply": "2024-11-18T11:35:48.101878Z"
    },
    "papermill": {
     "duration": 0.04265,
     "end_time": "2024-11-18T11:35:48.105672",
     "exception": false,
     "start_time": "2024-11-18T11:35:48.063022",
     "status": "completed"
    },
    "tags": []
   },
   "outputs": [],
   "source": [
    "input, output = load_data(\"/kaggle/input/titanic-survivore/train.csv\", add_intercept=True)\n",
    "input.loc[input[\"Sex\"]==\"male\", \"Sex\"] = 1\n",
    "input.loc[input[\"Sex\"]==\"female\", \"Sex\"] = 0\n"
   ]
  },
  {
   "cell_type": "code",
   "execution_count": 5,
   "id": "76546cc4",
   "metadata": {
    "execution": {
     "iopub.execute_input": "2024-11-18T11:35:48.117104Z",
     "iopub.status.busy": "2024-11-18T11:35:48.116333Z",
     "iopub.status.idle": "2024-11-18T11:35:48.123543Z",
     "shell.execute_reply": "2024-11-18T11:35:48.122471Z"
    },
    "papermill": {
     "duration": 0.015344,
     "end_time": "2024-11-18T11:35:48.125723",
     "exception": false,
     "start_time": "2024-11-18T11:35:48.110379",
     "status": "completed"
    },
    "tags": []
   },
   "outputs": [],
   "source": [
    "def nanHandel(x):\n",
    "    if not isinstance(x, pd.DataFrame):\n",
    "        raise ValueError(\"The argument x must be a Pandas DataFrame.\")\n",
    "    for attribute in x.columns:\n",
    "        nan = x[attribute].isna()\n",
    "        for i in range(len(nan)):\n",
    "            if nan[i]:\n",
    "                try:\n",
    "                    x.loc[i, attribute] = (x.loc[i-1, attribute]+x.loc[i+1, attribute])/2\n",
    "                except Exception:\n",
    "                    x.loc[i, attribute] = 0"
   ]
  },
  {
   "cell_type": "code",
   "execution_count": 6,
   "id": "4955553e",
   "metadata": {
    "execution": {
     "iopub.execute_input": "2024-11-18T11:35:48.137390Z",
     "iopub.status.busy": "2024-11-18T11:35:48.136386Z",
     "iopub.status.idle": "2024-11-18T11:35:48.216618Z",
     "shell.execute_reply": "2024-11-18T11:35:48.215581Z"
    },
    "papermill": {
     "duration": 0.088673,
     "end_time": "2024-11-18T11:35:48.219077",
     "exception": false,
     "start_time": "2024-11-18T11:35:48.130404",
     "status": "completed"
    },
    "tags": []
   },
   "outputs": [],
   "source": [
    "nanHandel(input)\n",
    "nanHandel(output)\n"
   ]
  },
  {
   "cell_type": "code",
   "execution_count": 7,
   "id": "f4a3df08",
   "metadata": {
    "execution": {
     "iopub.execute_input": "2024-11-18T11:35:48.229956Z",
     "iopub.status.busy": "2024-11-18T11:35:48.229452Z",
     "iopub.status.idle": "2024-11-18T11:35:48.234893Z",
     "shell.execute_reply": "2024-11-18T11:35:48.233891Z"
    },
    "papermill": {
     "duration": 0.013352,
     "end_time": "2024-11-18T11:35:48.236998",
     "exception": false,
     "start_time": "2024-11-18T11:35:48.223646",
     "status": "completed"
    },
    "tags": []
   },
   "outputs": [],
   "source": [
    "def sigmoid(x):\n",
    "    return np.exp(x) / (1 + np.exp(x))\n",
    "def d_sigmoid(x):\n",
    "    return sigmoid(x)*(1-sigmoid(x))"
   ]
  },
  {
   "cell_type": "code",
   "execution_count": null,
   "id": "e9479f76",
   "metadata": {
    "papermill": {
     "duration": 0.005168,
     "end_time": "2024-11-18T11:35:48.246665",
     "exception": false,
     "start_time": "2024-11-18T11:35:48.241497",
     "status": "completed"
    },
    "tags": []
   },
   "outputs": [],
   "source": []
  },
  {
   "cell_type": "code",
   "execution_count": 8,
   "id": "4fb0d021",
   "metadata": {
    "execution": {
     "iopub.execute_input": "2024-11-18T11:35:48.258396Z",
     "iopub.status.busy": "2024-11-18T11:35:48.257232Z",
     "iopub.status.idle": "2024-11-18T11:35:48.268448Z",
     "shell.execute_reply": "2024-11-18T11:35:48.267309Z"
    },
    "papermill": {
     "duration": 0.019172,
     "end_time": "2024-11-18T11:35:48.270533",
     "exception": false,
     "start_time": "2024-11-18T11:35:48.251361",
     "status": "completed"
    },
    "tags": []
   },
   "outputs": [],
   "source": [
    "class newton_Linear_model():\n",
    "    def __init__(self, max_itr = 100, learning_rate = 0.1, eps = 1e-5, theta = None):\n",
    "        self.max_itr = max_itr\n",
    "        self.learning_rate = learning_rate\n",
    "        self.eps = eps\n",
    "        self.theta = theta\n",
    "    def train(self, x, y):\n",
    "        col_count = len(x.columns)\n",
    "        x_np = x.to_numpy().astype(float)\n",
    "        y_np = y.to_numpy().astype(float).reshape(x_np.shape[0])\n",
    "        self.theta = np.zeros(col_count)\n",
    "        m,n = x_np.shape\n",
    "        for i in range(self.max_itr):\n",
    "            y_prid = sigmoid(x_np@self.theta)\n",
    "            gradient = (1/m)*x_np.T@(y_prid-y_np)\n",
    "            diag = y_prid*(1-y_prid)\n",
    "            H = (1/m) * (x_np.T * diag) @ x_np \n",
    "            tPre = self.theta.copy()\n",
    "            self.theta -= np.linalg.inv(H)@gradient\n",
    "            if np.linalg.norm(self.theta - tPre, ord = 1) < self.eps:\n",
    "                print(f\"Converged after {i} iteration\")\n",
    "                break\n",
    "    def predict(self,x,path):\n",
    "        x = x.to_numpy().astype(float)\n",
    "        m,n = x.shape\n",
    "        yPrid = sigmoid(x@self.theta)\n",
    "        data = np.zeros((m,2),dtype = x.dtype)\n",
    "        data[:,0]=np.arange(0,m,1)\n",
    "        data[:,1]= yPrid\n",
    "        np.savetxt(path, data, delimiter = ',', fmt='%.3f', header = \"PassangerID,Survivore\", comments='')\n",
    "        "
   ]
  },
  {
   "cell_type": "code",
   "execution_count": 9,
   "id": "d9cc1d5e",
   "metadata": {
    "execution": {
     "iopub.execute_input": "2024-11-18T11:35:48.281616Z",
     "iopub.status.busy": "2024-11-18T11:35:48.280555Z",
     "iopub.status.idle": "2024-11-18T11:35:48.285251Z",
     "shell.execute_reply": "2024-11-18T11:35:48.284337Z"
    },
    "papermill": {
     "duration": 0.012439,
     "end_time": "2024-11-18T11:35:48.287451",
     "exception": false,
     "start_time": "2024-11-18T11:35:48.275012",
     "status": "completed"
    },
    "tags": []
   },
   "outputs": [],
   "source": [
    "model_instance = newton_Linear_model()\n"
   ]
  },
  {
   "cell_type": "code",
   "execution_count": 10,
   "id": "f1819e12",
   "metadata": {
    "execution": {
     "iopub.execute_input": "2024-11-18T11:35:48.297856Z",
     "iopub.status.busy": "2024-11-18T11:35:48.297487Z",
     "iopub.status.idle": "2024-11-18T11:35:48.325425Z",
     "shell.execute_reply": "2024-11-18T11:35:48.324085Z"
    },
    "papermill": {
     "duration": 0.03693,
     "end_time": "2024-11-18T11:35:48.328825",
     "exception": false,
     "start_time": "2024-11-18T11:35:48.291895",
     "status": "completed"
    },
    "tags": []
   },
   "outputs": [],
   "source": [
    "model_instance.train(input,output)"
   ]
  },
  {
   "cell_type": "code",
   "execution_count": 11,
   "id": "3a99d536",
   "metadata": {
    "execution": {
     "iopub.execute_input": "2024-11-18T11:35:48.346586Z",
     "iopub.status.busy": "2024-11-18T11:35:48.345943Z",
     "iopub.status.idle": "2024-11-18T11:35:48.360839Z",
     "shell.execute_reply": "2024-11-18T11:35:48.359533Z"
    },
    "papermill": {
     "duration": 0.027424,
     "end_time": "2024-11-18T11:35:48.364214",
     "exception": false,
     "start_time": "2024-11-18T11:35:48.336790",
     "status": "completed"
    },
    "tags": []
   },
   "outputs": [],
   "source": [
    "px, py= load_data(\"/kaggle/input/titanic-survivore/test.csv\", label = None, add_intercept = True)"
   ]
  },
  {
   "cell_type": "code",
   "execution_count": 12,
   "id": "05dac468",
   "metadata": {
    "execution": {
     "iopub.execute_input": "2024-11-18T11:35:48.381980Z",
     "iopub.status.busy": "2024-11-18T11:35:48.381244Z",
     "iopub.status.idle": "2024-11-18T11:35:48.387134Z",
     "shell.execute_reply": "2024-11-18T11:35:48.385853Z"
    },
    "papermill": {
     "duration": 0.019348,
     "end_time": "2024-11-18T11:35:48.391428",
     "exception": false,
     "start_time": "2024-11-18T11:35:48.372080",
     "status": "completed"
    },
    "tags": []
   },
   "outputs": [],
   "source": [
    "py"
   ]
  },
  {
   "cell_type": "code",
   "execution_count": 13,
   "id": "83005311",
   "metadata": {
    "execution": {
     "iopub.execute_input": "2024-11-18T11:35:48.408237Z",
     "iopub.status.busy": "2024-11-18T11:35:48.407547Z",
     "iopub.status.idle": "2024-11-18T11:35:48.476318Z",
     "shell.execute_reply": "2024-11-18T11:35:48.475187Z"
    },
    "papermill": {
     "duration": 0.079785,
     "end_time": "2024-11-18T11:35:48.478481",
     "exception": false,
     "start_time": "2024-11-18T11:35:48.398696",
     "status": "completed"
    },
    "tags": []
   },
   "outputs": [
    {
     "name": "stdout",
     "output_type": "stream",
     "text": [
      "     Pclass Sex   Age      Fare  intercept\n",
      "0         3   1  34.5    7.8292          1\n",
      "1         3   0  47.0    7.0000          1\n",
      "2         2   1  62.0    9.6875          1\n",
      "3         3   1  27.0    8.6625          1\n",
      "4         3   0  22.0   12.2875          1\n",
      "..      ...  ..   ...       ...        ...\n",
      "413       3   1  33.5    8.0500          1\n",
      "414       1   0  39.0  108.9000          1\n",
      "415       3   1  38.5    7.2500          1\n",
      "416       3   1   NaN    8.0500          1\n",
      "417       3   1   0.0   22.3583          1\n",
      "\n",
      "[418 rows x 5 columns]\n"
     ]
    }
   ],
   "source": [
    "px.loc[px[\"Sex\"]==\"male\", \"Sex\"] = 1\n",
    "px.loc[px[\"Sex\"]==\"female\", \"Sex\"] = 0\n",
    "nanHandel(px)\n",
    "print(px)"
   ]
  },
  {
   "cell_type": "code",
   "execution_count": 14,
   "id": "9e06dc00",
   "metadata": {
    "execution": {
     "iopub.execute_input": "2024-11-18T11:35:48.489081Z",
     "iopub.status.busy": "2024-11-18T11:35:48.488672Z",
     "iopub.status.idle": "2024-11-18T11:35:48.495761Z",
     "shell.execute_reply": "2024-11-18T11:35:48.494907Z"
    },
    "papermill": {
     "duration": 0.014899,
     "end_time": "2024-11-18T11:35:48.498009",
     "exception": false,
     "start_time": "2024-11-18T11:35:48.483110",
     "status": "completed"
    },
    "tags": []
   },
   "outputs": [],
   "source": [
    "model_instance.predict(px,\"submit.csv\")"
   ]
  },
  {
   "cell_type": "code",
   "execution_count": null,
   "id": "7a9a945b",
   "metadata": {
    "papermill": {
     "duration": 0.004221,
     "end_time": "2024-11-18T11:35:48.506837",
     "exception": false,
     "start_time": "2024-11-18T11:35:48.502616",
     "status": "completed"
    },
    "tags": []
   },
   "outputs": [],
   "source": []
  },
  {
   "cell_type": "code",
   "execution_count": null,
   "id": "e36d9314",
   "metadata": {
    "papermill": {
     "duration": 0.004133,
     "end_time": "2024-11-18T11:35:48.515436",
     "exception": false,
     "start_time": "2024-11-18T11:35:48.511303",
     "status": "completed"
    },
    "tags": []
   },
   "outputs": [],
   "source": []
  }
 ],
 "metadata": {
  "kaggle": {
   "accelerator": "none",
   "dataSources": [
    {
     "datasetId": 6109446,
     "sourceId": 9937626,
     "sourceType": "datasetVersion"
    }
   ],
   "dockerImageVersionId": 30786,
   "isGpuEnabled": false,
   "isInternetEnabled": true,
   "language": "python",
   "sourceType": "notebook"
  },
  "kernelspec": {
   "display_name": "Python 3",
   "language": "python",
   "name": "python3"
  },
  "language_info": {
   "codemirror_mode": {
    "name": "ipython",
    "version": 3
   },
   "file_extension": ".py",
   "mimetype": "text/x-python",
   "name": "python",
   "nbconvert_exporter": "python",
   "pygments_lexer": "ipython3",
   "version": "3.10.14"
  },
  "papermill": {
   "default_parameters": {},
   "duration": 4.510792,
   "end_time": "2024-11-18T11:35:48.939338",
   "environment_variables": {},
   "exception": null,
   "input_path": "__notebook__.ipynb",
   "output_path": "__notebook__.ipynb",
   "parameters": {},
   "start_time": "2024-11-18T11:35:44.428546",
   "version": "2.6.0"
  }
 },
 "nbformat": 4,
 "nbformat_minor": 5
}
